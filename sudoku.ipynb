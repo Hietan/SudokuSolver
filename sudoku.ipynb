{
 "cells": [
  {
   "cell_type": "code",
   "execution_count": 1,
   "metadata": {},
   "outputs": [],
   "source": [
    "import numpy as np\n",
    "import pandas as pd\n",
    "import pulp"
   ]
  },
  {
   "cell_type": "code",
   "execution_count": 2,
   "metadata": {},
   "outputs": [],
   "source": [
    "problem = pd.read_csv('input.csv', header=None).to_numpy()\n",
    "is_fixed = np.zeros((9, 9), dtype=bool)\n",
    "\n",
    "is_fixed[problem != '.'] = True\n",
    "problem[problem == '.'] = '0'\n",
    "problem = problem.astype(np.int8)"
   ]
  },
  {
   "cell_type": "code",
   "execution_count": 3,
   "metadata": {},
   "outputs": [
    {
     "data": {
      "text/plain": [
       "1"
      ]
     },
     "execution_count": 3,
     "metadata": {},
     "output_type": "execute_result"
    }
   ],
   "source": [
    "m = pulp.LpProblem(name='Sudoku')\n",
    "N = range(9)\n",
    "\n",
    "x = [[[pulp.LpVariable('x' + str(i + 1) + str(j + 1) + str(k + 1), cat = 'Binary') for k in N] for j in N] for i in N]\n",
    "\n",
    "for i in N:\n",
    "\tfor j in N:\n",
    "\t\tm += pulp.lpSum(x[i][j][k] for k in N) == 1\n",
    "\n",
    "for i in N:\n",
    "\tfor k in N:\n",
    "\t\tm += pulp.lpSum(x[i][j][k] for j in N) == 1\n",
    "\n",
    "for j in N:\n",
    "\tfor k in N:\n",
    "\t\tm += pulp.lpSum(x[i][j][k] for i in N) == 1\n",
    "\n",
    "for k in N:\n",
    "\tfor area_num in N:\n",
    "\t\tr = int(area_num / 3)\n",
    "\t\tc = area_num % 3\n",
    "\t\tm += pulp.lpSum(x[i][j][k] for i in range(3 * r, 3 * (r + 1)) for j in range(3 * c, 3 * (c + 1))) == 1\n",
    "\n",
    "for i in N:\n",
    "\tfor j in N:\n",
    "\t\tif problem[i][j]:\n",
    "\t\t\tm += x[i][j][problem[i][j] - 1] == 1\n",
    "\n",
    "solver = pulp.PULP_CBC_CMD(msg = 0)\n",
    "m.solve(solver)"
   ]
  },
  {
   "cell_type": "code",
   "execution_count": 4,
   "metadata": {},
   "outputs": [],
   "source": [
    "result = np.empty((9, 9), dtype=np.int8)\n",
    "for i in N:\n",
    "\tfor j in N:\n",
    "\t\tfor k in N:\n",
    "\t\t\tif pulp.value(x[i][j][k]) > 0.5:\n",
    "\t\t\t\tresult[i][j] = k + 1"
   ]
  },
  {
   "cell_type": "code",
   "execution_count": 5,
   "metadata": {},
   "outputs": [],
   "source": [
    "def print_3chars(chars, is_fixed):\n",
    "\tfor i, c in enumerate(chars):\n",
    "\t\tif is_fixed[i]:\n",
    "\t\t\tprint(' \\033[1m' + (str(c) if c else ' ') + '\\033[0m ', end='')\n",
    "\t\telse:\n",
    "\t\t\tprint(' \\033[91m' + (str(c) if c else ' ') + '\\033[0m ', end='')\n",
    "\n",
    "def print_line(row, is_fixed):\n",
    "\tprint('\\033[90m│\\033[0m', end='')\n",
    "\tprint_3chars(row[0:3], is_fixed[0:3])\n",
    "\tprint('\\033[90m│\\033[0m', end='')\n",
    "\tprint_3chars(row[3:6], is_fixed[3:6])\n",
    "\tprint('\\033[90m│\\033[0m', end='')\n",
    "\tprint_3chars(row[6:9], is_fixed[6:9])\n",
    "\tprint('\\033[90m│\\033[0m')\n",
    "\n",
    "def print_3lines(rows, is_fixed):\n",
    "\tfor i, r in enumerate(rows):\n",
    "\t\tprint_line(r, is_fixed[i])\n",
    "\n",
    "def print_map(map, is_fixed):\n",
    "\tprint('\\033[90m┌─────────┬─────────┬─────────┐\\033[0m')\n",
    "\tprint_3lines(map[0:3], is_fixed[0:3])\n",
    "\tprint('\\033[90m├─────────┼─────────┼─────────┤\\033[0m')\n",
    "\tprint_3lines(map[3:6], is_fixed[3:6])\n",
    "\tprint('\\033[90m├─────────┼─────────┼─────────┤\\033[0m')\n",
    "\tprint_3lines(map[6:9], is_fixed[6:9])\n",
    "\tprint('\\033[90m└─────────┴─────────┴─────────┘\\033[0m')\n",
    "\treturn"
   ]
  },
  {
   "cell_type": "code",
   "execution_count": 6,
   "metadata": {},
   "outputs": [
    {
     "name": "stdout",
     "output_type": "stream",
     "text": [
      "******* Sudoku Problem ********\n",
      "\u001b[90m┌─────────┬─────────┬─────────┐\u001b[0m\n",
      "\u001b[90m│\u001b[0m \u001b[1m8\u001b[0m  \u001b[91m \u001b[0m  \u001b[91m \u001b[0m \u001b[90m│\u001b[0m \u001b[91m \u001b[0m  \u001b[91m \u001b[0m  \u001b[91m \u001b[0m \u001b[90m│\u001b[0m \u001b[91m \u001b[0m  \u001b[91m \u001b[0m  \u001b[91m \u001b[0m \u001b[90m│\u001b[0m\n",
      "\u001b[90m│\u001b[0m \u001b[91m \u001b[0m  \u001b[91m \u001b[0m  \u001b[1m3\u001b[0m \u001b[90m│\u001b[0m \u001b[1m6\u001b[0m  \u001b[91m \u001b[0m  \u001b[91m \u001b[0m \u001b[90m│\u001b[0m \u001b[91m \u001b[0m  \u001b[91m \u001b[0m  \u001b[91m \u001b[0m \u001b[90m│\u001b[0m\n",
      "\u001b[90m│\u001b[0m \u001b[91m \u001b[0m  \u001b[1m7\u001b[0m  \u001b[91m \u001b[0m \u001b[90m│\u001b[0m \u001b[91m \u001b[0m  \u001b[1m9\u001b[0m  \u001b[91m \u001b[0m \u001b[90m│\u001b[0m \u001b[1m2\u001b[0m  \u001b[91m \u001b[0m  \u001b[91m \u001b[0m \u001b[90m│\u001b[0m\n",
      "\u001b[90m├─────────┼─────────┼─────────┤\u001b[0m\n",
      "\u001b[90m│\u001b[0m \u001b[91m \u001b[0m  \u001b[1m5\u001b[0m  \u001b[91m \u001b[0m \u001b[90m│\u001b[0m \u001b[91m \u001b[0m  \u001b[91m \u001b[0m  \u001b[1m7\u001b[0m \u001b[90m│\u001b[0m \u001b[91m \u001b[0m  \u001b[91m \u001b[0m  \u001b[91m \u001b[0m \u001b[90m│\u001b[0m\n",
      "\u001b[90m│\u001b[0m \u001b[91m \u001b[0m  \u001b[91m \u001b[0m  \u001b[91m \u001b[0m \u001b[90m│\u001b[0m \u001b[91m \u001b[0m  \u001b[1m4\u001b[0m  \u001b[1m5\u001b[0m \u001b[90m│\u001b[0m \u001b[1m7\u001b[0m  \u001b[91m \u001b[0m  \u001b[91m \u001b[0m \u001b[90m│\u001b[0m\n",
      "\u001b[90m│\u001b[0m \u001b[91m \u001b[0m  \u001b[91m \u001b[0m  \u001b[91m \u001b[0m \u001b[90m│\u001b[0m \u001b[1m1\u001b[0m  \u001b[91m \u001b[0m  \u001b[91m \u001b[0m \u001b[90m│\u001b[0m \u001b[91m \u001b[0m  \u001b[1m3\u001b[0m  \u001b[91m \u001b[0m \u001b[90m│\u001b[0m\n",
      "\u001b[90m├─────────┼─────────┼─────────┤\u001b[0m\n",
      "\u001b[90m│\u001b[0m \u001b[91m \u001b[0m  \u001b[91m \u001b[0m  \u001b[1m1\u001b[0m \u001b[90m│\u001b[0m \u001b[91m \u001b[0m  \u001b[91m \u001b[0m  \u001b[91m \u001b[0m \u001b[90m│\u001b[0m \u001b[91m \u001b[0m  \u001b[1m6\u001b[0m  \u001b[1m8\u001b[0m \u001b[90m│\u001b[0m\n",
      "\u001b[90m│\u001b[0m \u001b[91m \u001b[0m  \u001b[91m \u001b[0m  \u001b[1m8\u001b[0m \u001b[90m│\u001b[0m \u001b[1m5\u001b[0m  \u001b[91m \u001b[0m  \u001b[91m \u001b[0m \u001b[90m│\u001b[0m \u001b[91m \u001b[0m  \u001b[1m1\u001b[0m  \u001b[91m \u001b[0m \u001b[90m│\u001b[0m\n",
      "\u001b[90m│\u001b[0m \u001b[91m \u001b[0m  \u001b[1m9\u001b[0m  \u001b[91m \u001b[0m \u001b[90m│\u001b[0m \u001b[91m \u001b[0m  \u001b[91m \u001b[0m  \u001b[91m \u001b[0m \u001b[90m│\u001b[0m \u001b[1m4\u001b[0m  \u001b[91m \u001b[0m  \u001b[91m \u001b[0m \u001b[90m│\u001b[0m\n",
      "\u001b[90m└─────────┴─────────┴─────────┘\u001b[0m\n",
      "\n",
      "******** Sudoku Result ********\n",
      "\u001b[90m┌─────────┬─────────┬─────────┐\u001b[0m\n",
      "\u001b[90m│\u001b[0m \u001b[1m8\u001b[0m  \u001b[91m1\u001b[0m  \u001b[91m2\u001b[0m \u001b[90m│\u001b[0m \u001b[91m7\u001b[0m  \u001b[91m5\u001b[0m  \u001b[91m3\u001b[0m \u001b[90m│\u001b[0m \u001b[91m6\u001b[0m  \u001b[91m4\u001b[0m  \u001b[91m9\u001b[0m \u001b[90m│\u001b[0m\n",
      "\u001b[90m│\u001b[0m \u001b[91m9\u001b[0m  \u001b[91m4\u001b[0m  \u001b[1m3\u001b[0m \u001b[90m│\u001b[0m \u001b[1m6\u001b[0m  \u001b[91m8\u001b[0m  \u001b[91m2\u001b[0m \u001b[90m│\u001b[0m \u001b[91m1\u001b[0m  \u001b[91m7\u001b[0m  \u001b[91m5\u001b[0m \u001b[90m│\u001b[0m\n",
      "\u001b[90m│\u001b[0m \u001b[91m6\u001b[0m  \u001b[1m7\u001b[0m  \u001b[91m5\u001b[0m \u001b[90m│\u001b[0m \u001b[91m4\u001b[0m  \u001b[1m9\u001b[0m  \u001b[91m1\u001b[0m \u001b[90m│\u001b[0m \u001b[1m2\u001b[0m  \u001b[91m8\u001b[0m  \u001b[91m3\u001b[0m \u001b[90m│\u001b[0m\n",
      "\u001b[90m├─────────┼─────────┼─────────┤\u001b[0m\n",
      "\u001b[90m│\u001b[0m \u001b[91m1\u001b[0m  \u001b[1m5\u001b[0m  \u001b[91m4\u001b[0m \u001b[90m│\u001b[0m \u001b[91m2\u001b[0m  \u001b[91m3\u001b[0m  \u001b[1m7\u001b[0m \u001b[90m│\u001b[0m \u001b[91m8\u001b[0m  \u001b[91m9\u001b[0m  \u001b[91m6\u001b[0m \u001b[90m│\u001b[0m\n",
      "\u001b[90m│\u001b[0m \u001b[91m3\u001b[0m  \u001b[91m6\u001b[0m  \u001b[91m9\u001b[0m \u001b[90m│\u001b[0m \u001b[91m8\u001b[0m  \u001b[1m4\u001b[0m  \u001b[1m5\u001b[0m \u001b[90m│\u001b[0m \u001b[1m7\u001b[0m  \u001b[91m2\u001b[0m  \u001b[91m1\u001b[0m \u001b[90m│\u001b[0m\n",
      "\u001b[90m│\u001b[0m \u001b[91m2\u001b[0m  \u001b[91m8\u001b[0m  \u001b[91m7\u001b[0m \u001b[90m│\u001b[0m \u001b[1m1\u001b[0m  \u001b[91m6\u001b[0m  \u001b[91m9\u001b[0m \u001b[90m│\u001b[0m \u001b[91m5\u001b[0m  \u001b[1m3\u001b[0m  \u001b[91m4\u001b[0m \u001b[90m│\u001b[0m\n",
      "\u001b[90m├─────────┼─────────┼─────────┤\u001b[0m\n",
      "\u001b[90m│\u001b[0m \u001b[91m5\u001b[0m  \u001b[91m2\u001b[0m  \u001b[1m1\u001b[0m \u001b[90m│\u001b[0m \u001b[91m9\u001b[0m  \u001b[91m7\u001b[0m  \u001b[91m4\u001b[0m \u001b[90m│\u001b[0m \u001b[91m3\u001b[0m  \u001b[1m6\u001b[0m  \u001b[1m8\u001b[0m \u001b[90m│\u001b[0m\n",
      "\u001b[90m│\u001b[0m \u001b[91m4\u001b[0m  \u001b[91m3\u001b[0m  \u001b[1m8\u001b[0m \u001b[90m│\u001b[0m \u001b[1m5\u001b[0m  \u001b[91m2\u001b[0m  \u001b[91m6\u001b[0m \u001b[90m│\u001b[0m \u001b[91m9\u001b[0m  \u001b[1m1\u001b[0m  \u001b[91m7\u001b[0m \u001b[90m│\u001b[0m\n",
      "\u001b[90m│\u001b[0m \u001b[91m7\u001b[0m  \u001b[1m9\u001b[0m  \u001b[91m6\u001b[0m \u001b[90m│\u001b[0m \u001b[91m3\u001b[0m  \u001b[91m1\u001b[0m  \u001b[91m8\u001b[0m \u001b[90m│\u001b[0m \u001b[1m4\u001b[0m  \u001b[91m5\u001b[0m  \u001b[91m2\u001b[0m \u001b[90m│\u001b[0m\n",
      "\u001b[90m└─────────┴─────────┴─────────┘\u001b[0m\n"
     ]
    }
   ],
   "source": [
    "print('******* Sudoku Problem ********')\n",
    "print_map(problem, is_fixed)\n",
    "\n",
    "print('\\n******** Sudoku Result ********')\n",
    "print_map(result, is_fixed)"
   ]
  }
 ],
 "metadata": {
  "kernelspec": {
   "display_name": "sudoku",
   "language": "python",
   "name": "python3"
  },
  "language_info": {
   "codemirror_mode": {
    "name": "ipython",
    "version": 3
   },
   "file_extension": ".py",
   "mimetype": "text/x-python",
   "name": "python",
   "nbconvert_exporter": "python",
   "pygments_lexer": "ipython3",
   "version": "3.11.11"
  }
 },
 "nbformat": 4,
 "nbformat_minor": 2
}
